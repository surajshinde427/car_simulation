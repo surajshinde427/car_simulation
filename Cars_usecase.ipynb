{
 "cells": [
  {
   "cell_type": "code",
   "execution_count": 97,
   "id": "0e3d2af4-8fbf-49c8-8c44-69e5deeadb3c",
   "metadata": {},
   "outputs": [],
   "source": [
    "def run_simulation(width,height,cars):\n",
    "    max_len=max(len(i.commands) for i in cars)\n",
    "    for itr in range(max_len):\n",
    "            cnt=0\n",
    "            for car in cars:\n",
    "                cnt=cnt+1\n",
    "                print(cnt)\n",
    "                if car.commands:\n",
    "                    cmd=car.commands.pop(0)\n",
    "                    print(cmd)\n",
    "                \n",
    "        \n",
    "    \n",
    "def find_direction(command):\n",
    "    match command:\n",
    "        case 'N':\n",
    "            return 0,1\n",
    "        case 'S':\n",
    "            return 0,-1\n",
    "        case 'E':\n",
    "            return 1,0\n",
    "        case 'W':\n",
    "            return -1,0\n",
    "            \n"
   ]
  },
  {
   "cell_type": "code",
   "execution_count": 99,
   "id": "afc4ba27-bcaf-48ac-9f5a-1d0c9daede47",
   "metadata": {},
   "outputs": [],
   "source": [
    "def main():\n",
    "    print(\"Welcome to Auto Driving Car Simulation!\")\n",
    "    width,height=input(\"Please enter the width and height of the simulation field in x y format: \").split()\n",
    "    cars=[]\n",
    "    while True:\n",
    "        opts=int(input(\"Please choose from the following options:\\n[1] Add a car to field\\n[2] Run simulation\"))\n",
    "        if opts==1:\n",
    "            car_name=input(\"Please enter the name of the car:\")\n",
    "            x,y,direction=input(\"Please enter initial position of car A in x y Direction format:\").split()\n",
    "            commands=input(\"Please enter the commands for car {}:\".format(car_name))\n",
    "            cars.append(Car(car_name,x,y,direction,commands))\n",
    "        elif opts==2:\n",
    "            run_simulation(width,height,cars)\n",
    "            print(cars)\n",
    "            "
   ]
  },
  {
   "cell_type": "code",
   "execution_count": 101,
   "id": "9b4e5b7a-7866-4484-985d-61113e1727c5",
   "metadata": {},
   "outputs": [],
   "source": [
    "class Car:\n",
    "    DIRECTION=['N','E','S','W']\n",
    "    \n",
    "    def __init__(self,name,x,y,direction,commands):\n",
    "        self.name=name\n",
    "        self.x=x\n",
    "        self.y=y\n",
    "        self.direction=direction\n",
    "        self.commands=list(commands)\n",
    "    # def turn_right():\n",
    "    #def turn_left():\n",
    "    #def forward():\n",
    "        \n",
    "    def __repr__(self):\n",
    "        return f\"{self.name}, ({self.x},{self.y}) {self.direction} {self.commands}\""
   ]
  },
  {
   "cell_type": "code",
   "execution_count": null,
   "id": "65082add-d94a-4862-9570-4a814bf4fb22",
   "metadata": {},
   "outputs": [
    {
     "name": "stdout",
     "output_type": "stream",
     "text": [
      "Welcome to Auto Driving Car Simulation!\n"
     ]
    },
    {
     "name": "stdin",
     "output_type": "stream",
     "text": [
      "Please enter the width and height of the simulation field in x y format:  10 10\n",
      "Please choose from the following options:\n",
      "[1] Add a car to field\n",
      "[2] Run simulation 1\n",
      "Please enter the name of the car: A\n",
      "Please enter initial position of car A in x y Direction format: 1 2 N\n",
      "Please enter the commands for car A: FFRFFFR\n",
      "Please choose from the following options:\n",
      "[1] Add a car to field\n",
      "[2] Run simulation 2\n"
     ]
    },
    {
     "name": "stdout",
     "output_type": "stream",
     "text": [
      "1\n",
      "F\n",
      "1\n",
      "F\n",
      "1\n",
      "R\n",
      "1\n",
      "F\n",
      "1\n",
      "F\n",
      "1\n",
      "F\n",
      "1\n",
      "R\n",
      "[A, (1,2) N []]\n"
     ]
    }
   ],
   "source": [
    "if __name__ == \"__main__\":\n",
    "    main()"
   ]
  },
  {
   "cell_type": "code",
   "execution_count": null,
   "id": "6f4232d2-7711-4aa4-abec-8264b8ec429b",
   "metadata": {},
   "outputs": [],
   "source": []
  }
 ],
 "metadata": {
  "kernelspec": {
   "display_name": "Python 3 (ipykernel)",
   "language": "python",
   "name": "python3"
  },
  "language_info": {
   "codemirror_mode": {
    "name": "ipython",
    "version": 3
   },
   "file_extension": ".py",
   "mimetype": "text/x-python",
   "name": "python",
   "nbconvert_exporter": "python",
   "pygments_lexer": "ipython3",
   "version": "3.12.7"
  }
 },
 "nbformat": 4,
 "nbformat_minor": 5
}
